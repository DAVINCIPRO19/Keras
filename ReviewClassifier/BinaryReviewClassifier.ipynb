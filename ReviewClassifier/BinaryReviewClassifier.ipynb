{
 "cells": [
  {
   "cell_type": "code",
   "execution_count": 19,
   "id": "53be2d4c",
   "metadata": {},
   "outputs": [],
   "source": [
    "import matplotlib.pyplot as plt\n",
    "import numpy as np\n",
    "import os\n",
    "from keras.datasets import imdb\n",
    "from keras import optimizers\n",
    "from keras import metrics\n",
    "from keras import models\n",
    "from keras import layers\n",
    "from keras import losses"
   ]
  },
  {
   "cell_type": "markdown",
   "id": "ec349f31",
   "metadata": {},
   "source": [
    "#### Set minimal memory usage for gpu"
   ]
  },
  {
   "cell_type": "code",
   "execution_count": 20,
   "id": "b5513548",
   "metadata": {},
   "outputs": [],
   "source": [
    "os.environ['TF_CPP_MIN_LOG_LEVEL'] = '3'  "
   ]
  },
  {
   "cell_type": "markdown",
   "id": "701aa283",
   "metadata": {},
   "source": [
    "#### Load IMBD film reviews dataset with 10000 words, which means that we have 10000 most popular words. We can see decoded review example, where '?' means this words does not include to our 10000 words"
   ]
  },
  {
   "cell_type": "code",
   "execution_count": 21,
   "id": "c1d41b52",
   "metadata": {},
   "outputs": [],
   "source": [
    "(train_data, train_lbls), (test_data, test_lbls) = imdb.load_data(num_words=10000)"
   ]
  },
  {
   "cell_type": "code",
   "execution_count": 22,
   "id": "b93ba72e",
   "metadata": {},
   "outputs": [],
   "source": [
    "word_index = imdb.get_word_index()\n",
    "index_word = dict( \n",
    "    [(value, key) for (key, value) in word_index.items()])\n",
    "decoded_review = ' '.join(\n",
    "    [index_word.get(i - 3, '?') for i in train_data[15]])"
   ]
  },
  {
   "cell_type": "code",
   "execution_count": 23,
   "id": "0f80fe62",
   "metadata": {},
   "outputs": [
    {
     "data": {
      "text/plain": [
       "\"? a total waste of time just throw in a few explosions non stop fighting exotic cars a deranged millionaire slow motion computer generated car crashes and last but not least a hugh ? like character with wall to wall hot babes and mix in a ? and you will have this sorry excuse for a movie i really got a laugh out of the dr evil like heavily ? compound the plot was somewhere between preposterous and non existent how many ? are willing to make a 25 million dollar bet on a car race answer 4 but didn't they become ? through ? responsibility this was written for ? males it plays like a video game i did enjoy the ? ii landing in the desert though\""
      ]
     },
     "execution_count": 23,
     "metadata": {},
     "output_type": "execute_result"
    }
   ],
   "source": [
    "decoded_review"
   ]
  },
  {
   "cell_type": "markdown",
   "id": "c9eec41b",
   "metadata": {},
   "source": [
    "#### Create function, which create numpy array that shows having words "
   ]
  },
  {
   "cell_type": "code",
   "execution_count": 24,
   "id": "4a89493e",
   "metadata": {},
   "outputs": [],
   "source": [
    "def vectorize_sequences(sequences, dimension=10000):\n",
    "    results = np.zeros((len(sequences), dimension))\n",
    "    for i, sequence in enumerate(sequences):\n",
    "        results[i, sequence] = 1.\n",
    "    return results"
   ]
  },
  {
   "cell_type": "code",
   "execution_count": 25,
   "id": "0c846498",
   "metadata": {},
   "outputs": [],
   "source": [
    "x_train = vectorize_sequences(train_data)\n",
    "x_test = vectorize_sequences(test_data)"
   ]
  },
  {
   "cell_type": "code",
   "execution_count": 26,
   "id": "ed3f9315",
   "metadata": {},
   "outputs": [],
   "source": [
    "y_train = np.asarray(train_lbls).astype('float32')\n",
    "y_test = np.asarray(test_lbls).astype('float32')"
   ]
  },
  {
   "cell_type": "markdown",
   "id": "472f0ab1",
   "metadata": {},
   "source": [
    "#### Build layers, where 3 Dense: 2 of them have relu and logit has sigmoid, because we need to return pos or neg "
   ]
  },
  {
   "cell_type": "code",
   "execution_count": 27,
   "id": "3e98045f",
   "metadata": {},
   "outputs": [],
   "source": [
    "model = models.Sequential()\n",
    "model.add(layers.Dense(16, activation='relu', input_shape=(10000, )))\n",
    "model.add(layers.Dense(16, activation='relu'))\n",
    "model.add(layers.Dense(1, activation='sigmoid'))"
   ]
  },
  {
   "cell_type": "code",
   "execution_count": 28,
   "id": "787a7534",
   "metadata": {},
   "outputs": [],
   "source": [
    "model.compile(\n",
    "            optimizer='rmsprop',\n",
    "            loss='binary_crossentropy',\n",
    "            metrics=['accuracy'])"
   ]
  },
  {
   "cell_type": "code",
   "execution_count": 29,
   "id": "6e5ac50f",
   "metadata": {
    "scrolled": true
   },
   "outputs": [
    {
     "name": "stdout",
     "output_type": "stream",
     "text": [
      "Epoch 1/10\n",
      "49/49 [==============================] - 1s 8ms/step - loss: 0.4744 - accuracy: 0.8135\n",
      "Epoch 2/10\n",
      "49/49 [==============================] - 0s 9ms/step - loss: 0.2707 - accuracy: 0.9075\n",
      "Epoch 3/10\n",
      "49/49 [==============================] - 0s 8ms/step - loss: 0.2047 - accuracy: 0.9273\n",
      "Epoch 4/10\n",
      "49/49 [==============================] - 0s 9ms/step - loss: 0.1687 - accuracy: 0.9408\n",
      "Epoch 5/10\n",
      "49/49 [==============================] - 0s 9ms/step - loss: 0.1452 - accuracy: 0.9473\n",
      "Epoch 6/10\n",
      "49/49 [==============================] - 0s 9ms/step - loss: 0.1268 - accuracy: 0.9552\n",
      "Epoch 7/10\n",
      "49/49 [==============================] - 0s 8ms/step - loss: 0.1136 - accuracy: 0.9611\n",
      "Epoch 8/10\n",
      "49/49 [==============================] - 0s 8ms/step - loss: 0.0979 - accuracy: 0.9668\n",
      "Epoch 9/10\n",
      "49/49 [==============================] - 0s 8ms/step - loss: 0.0870 - accuracy: 0.9706\n",
      "Epoch 10/10\n",
      "49/49 [==============================] - 0s 8ms/step - loss: 0.0757 - accuracy: 0.9748\n"
     ]
    }
   ],
   "source": [
    "history = model.fit(\n",
    "                    x_train,\n",
    "                    y_train,\n",
    "                    epochs=10,\n",
    "                    batch_size=512\n",
    "                    )"
   ]
  },
  {
   "cell_type": "code",
   "execution_count": 30,
   "id": "5909d0f4",
   "metadata": {},
   "outputs": [],
   "source": [
    "history_dict = history.history\n",
    "loss_values = history_dict['loss']\n",
    "acc_values = history_dict['accuracy']"
   ]
  },
  {
   "cell_type": "code",
   "execution_count": 31,
   "id": "aefb98fc",
   "metadata": {},
   "outputs": [],
   "source": [
    "epochs = range(1, len(acc_values) + 1)"
   ]
  },
  {
   "cell_type": "markdown",
   "id": "471224b4",
   "metadata": {},
   "source": [
    "#### Plot loss and accuracy for 10 epoch"
   ]
  },
  {
   "cell_type": "code",
   "execution_count": 33,
   "id": "96ffb915",
   "metadata": {
    "scrolled": true
   },
   "outputs": [
    {
     "data": {
      "image/png": "[encoded data removed]",
      "text/plain": [
       "<Figure size 1080x360 with 2 Axes>"
      ]
     },
     "metadata": {
      "needs_background": "light"
     },
     "output_type": "display_data"
    }
   ],
   "source": [
    "fig, (ax1, ax2) = plt.subplots(1, 2, figsize=(15, 5))\n",
    "\n",
    "ax1.plot(epochs, loss_values, 'b', label='loss')\n",
    "ax1.set(xlabel='Epochs', ylabel='Loss')\n",
    "ax1.legend()\n",
    "\n",
    "ax2.plot(epochs, acc_values, 'r', label='accuracy')\n",
    "ax2.set(xlabel='Epochs', ylabel='Accuracy')\n",
    "ax2.legend()\n",
    "\n",
    "plt.show()"
   ]
  }
 ],
 "metadata": {
  "kernelspec": {
   "display_name": "Python 3 (ipykernel)",
   "language": "python",
   "name": "python3"
  },
  "language_info": {
   "codemirror_mode": {
    "name": "ipython",
    "version": 3
   },
   "file_extension": ".py",
   "mimetype": "text/x-python",
   "name": "python",
   "nbconvert_exporter": "python",
   "pygments_lexer": "ipython3",
   "version": "3.8.10"
  }
 },
 "nbformat": 4,
 "nbformat_minor": 5
}
